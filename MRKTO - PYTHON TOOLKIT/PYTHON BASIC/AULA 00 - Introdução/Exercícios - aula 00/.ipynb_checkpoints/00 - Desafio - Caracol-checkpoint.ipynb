{
 "cells": [
  {
   "cell_type": "markdown",
   "metadata": {},
   "source": [
    "<h1>Desafio</h1>\n",
    "<img src=https://media.giphy.com/media/3Gl8sOjurR3ihZj27S/giphy.gif width='400' height=400>\n",
    "\n",
    "\n",
    "* Um caracol está no fundo do poço, literalmente! E está tentando sair de lá. \n",
    "* O poço tem 20 metros de profundidade. \n",
    "* A cada dia o caracol sobe 6 metros, mas, de noite, durante seu descanso, ele cai 4. \n",
    "\n",
    "Usando o que vimos na aula (estruturas de repetição, comparação e decisão) descubra:\n",
    "Em quantos dias o caracol conseguirá sair do poço?"
   ]
  },
  {
   "cell_type": "code",
   "execution_count": 6,
   "metadata": {},
   "outputs": [],
   "source": [
    "distancia = 0\n",
    "dia = 0\n",
    "\n",
    "avanco_diurno = 6\n",
    "retorno_noturno = 4"
   ]
  },
  {
   "cell_type": "code",
   "execution_count": 7,
   "metadata": {},
   "outputs": [
    {
     "name": "stdout",
     "output_type": "stream",
     "text": [
      "1 2\n",
      "2 4\n",
      "3 6\n",
      "4 8\n",
      "5 10\n",
      "6 12\n",
      "7 14\n",
      "8 20\n"
     ]
    }
   ],
   "source": [
    "while distancia < 20:\n",
    "    \n",
    "    dia = dia + 1\n",
    "    distancia = distancia + avanco_diurno\n",
    "    \n",
    "    if distancia < 20:\n",
    "        \n",
    "        distancia = distancia - retorno_noturno\n",
    "    \n",
    "    print(dia, distancia)"
   ]
  }
 ],
 "metadata": {
  "kernelspec": {
   "display_name": "Python 3",
   "language": "python",
   "name": "python3"
  },
  "language_info": {
   "codemirror_mode": {
    "name": "ipython",
    "version": 3
   },
   "file_extension": ".py",
   "mimetype": "text/x-python",
   "name": "python",
   "nbconvert_exporter": "python",
   "pygments_lexer": "ipython3",
   "version": "3.9.2"
  }
 },
 "nbformat": 4,
 "nbformat_minor": 4
}
