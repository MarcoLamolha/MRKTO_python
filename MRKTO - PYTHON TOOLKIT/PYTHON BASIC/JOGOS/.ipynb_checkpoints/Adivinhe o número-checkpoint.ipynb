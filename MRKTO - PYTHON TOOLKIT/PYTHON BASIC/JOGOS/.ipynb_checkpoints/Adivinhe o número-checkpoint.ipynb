{
 "cells": [
  {
   "cell_type": "markdown",
   "id": "received-airfare",
   "metadata": {},
   "source": [
    "### Adivinhe o número"
   ]
  },
  {
   "cell_type": "code",
   "execution_count": 1,
   "id": "widespread-attendance",
   "metadata": {},
   "outputs": [
    {
     "name": "stdout",
     "output_type": "stream",
     "text": [
      "Olá! Qual é o seu nome?\n",
      "Markito\n",
      "Bom, Markito, eu estou pensando em um número entre 1 e 20.\n",
      "Dê um palpite sobre o número escolhido.\n",
      "13\n",
      "Seu palpite está muito alto\n",
      "Dê um palpite sobre o número escolhido.\n",
      "10\n",
      "Bom trabalho, Markito! Você descobriu meu número em 2 palpites!\n"
     ]
    }
   ],
   "source": [
    "import random\n",
    "\n",
    "guessesTaken = 0\n",
    "\n",
    "print('Olá! Qual é o seu nome?')\n",
    "myName = input()\n",
    "\n",
    "number = random.randint(1, 20)\n",
    "print('Bom, ' + myName + ', eu estou pensando em um número entre 1 e 20.')\n",
    "\n",
    "while guessesTaken < 6:\n",
    "    print('Dê um palpite sobre o número escolhido.')\n",
    "    guess = input()\n",
    "    guess = int(guess)\n",
    "\n",
    "    guessesTaken = guessesTaken + 1\n",
    "\n",
    "    if guess < number:\n",
    "        print('Seu palpite está muito baixo.')\n",
    "\n",
    "    if guess > number:\n",
    "        print('Seu palpite está muito alto')\n",
    "\n",
    "    if guess == number:\n",
    "        break\n",
    "\n",
    "if guess == number:\n",
    "    guessesTaken = str(guessesTaken)\n",
    "    print('Bom trabalho, ' + myName + '! Você descobriu meu número em ' + guessesTaken + ' palpites!')\n",
    "\n",
    "if guess != number:\n",
    "    number = str(number)\n",
    "    print('Não. O número em que eu estava pensando era ' + number)\n"
   ]
  },
  {
   "cell_type": "markdown",
   "id": "monetary-night",
   "metadata": {},
   "source": [
    "#### Vamos ler o código acima e entender o que ele faz e como faz.\n",
    "\n",
    "Rode uma vez o código acima e veja como ele se comporta."
   ]
  },
  {
   "cell_type": "markdown",
   "id": "billion-drain",
   "metadata": {},
   "source": [
    "Vou fazer algumas perguntas para que possamos explorar melhor o tema:\n",
    "\n",
    "- se eu quiser alterar o número de tentativas possíveis, onde eu deveria alterar?\n",
    "- o que faz a função input?\n",
    "- o que faz random.randint?\n",
    "- todos os \"if\" estão dentro do \"while\"?\n",
    "- qual é o papel da variável guessesTaken?\n",
    "- qual o papel da variável guess?\n",
    "- o que faz a função int?"
   ]
  },
  {
   "cell_type": "code",
   "execution_count": null,
   "id": "existing-radio",
   "metadata": {},
   "outputs": [],
   "source": []
  },
  {
   "cell_type": "code",
   "execution_count": null,
   "id": "outstanding-macintosh",
   "metadata": {},
   "outputs": [],
   "source": []
  }
 ],
 "metadata": {
  "kernelspec": {
   "display_name": "Python 3",
   "language": "python",
   "name": "python3"
  },
  "language_info": {
   "codemirror_mode": {
    "name": "ipython",
    "version": 3
   },
   "file_extension": ".py",
   "mimetype": "text/x-python",
   "name": "python",
   "nbconvert_exporter": "python",
   "pygments_lexer": "ipython3",
   "version": "3.9.2"
  }
 },
 "nbformat": 4,
 "nbformat_minor": 5
}
