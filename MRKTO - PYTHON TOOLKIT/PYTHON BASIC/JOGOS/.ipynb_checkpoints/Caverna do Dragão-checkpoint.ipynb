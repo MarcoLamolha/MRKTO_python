{
 "cells": [
  {
   "cell_type": "markdown",
   "id": "adapted-bowling",
   "metadata": {},
   "source": [
    "## Caverna do Dragão"
   ]
  },
  {
   "cell_type": "code",
   "execution_count": null,
   "id": "dirty-catering",
   "metadata": {},
   "outputs": [
    {
     "name": "stdout",
     "output_type": "stream",
     "text": [
      "Você está em um território cheio de dragões. Diante de você,\n",
      "estão duas cavernas. Em uma caverna o dragão é amigável\n",
      "e partilhará seu tesouro contigo. Na outra o dragão é\n",
      "faminto e ganacioso, e o devorará em um piscar de olhos.\n",
      "\n",
      "Em qual das cavernas você entra? (1 ou 2)\n",
      "1\n",
      "Você se aproxima da caverna...\n",
      "O ambiente é escuro e assustador...\n",
      "Um grande dragão pula à sua frente! Ele abre suas mandíbulas e... \n",
      "\n",
      "Te entrega o tesouro dele!\n",
      "\n",
      "Você gostaria de jogar novamente? (sim ou não)\n"
     ]
    }
   ],
   "source": [
    "import random\n",
    "import time\n",
    "\n",
    "def displayIntro():\n",
    "    print('Você está em um território cheio de dragões. Diante de você,')\n",
    "    print('estão duas cavernas. Em uma caverna o dragão é amigável')\n",
    "    print('e partilhará seu tesouro contigo. Na outra o dragão é')\n",
    "    print('faminto e ganacioso, e o devorará em um piscar de olhos.')\n",
    "    print()\n",
    "\n",
    "def chooseCave():\n",
    "    \n",
    "    cave = ''\n",
    "    \n",
    "    while cave != '1' and cave != '2':\n",
    "        print('Em qual das cavernas você entra? (1 ou 2)')\n",
    "        cave = input()\n",
    "\n",
    "    return cave\n",
    "\n",
    "def checkCave(chosenCave):\n",
    "    print('Você se aproxima da caverna...')\n",
    "    time.sleep(2)\n",
    "    print('O ambiente é escuro e assustador...')\n",
    "    time.sleep(2)\n",
    "    print('Um grande dragão pula à sua frente! Ele abre suas mandíbulas e... ')\n",
    "    print()\n",
    "    time.sleep(2)\n",
    "\n",
    "    friendlyCave = random.randint(1, 2)\n",
    "\n",
    "    if chosenCave == str(friendlyCave):\n",
    "        print('Te entrega o tesouro dele!')\n",
    "    \n",
    "    else:\n",
    "        print('Te devora em uma mordida!')\n",
    "\n",
    "playAgain = 'sim'\n",
    "    \n",
    "while playAgain == 'sim' or playAgain == 's':\n",
    "\n",
    "    displayIntro()\n",
    "\n",
    "    caveNumber = chooseCave()\n",
    "    \n",
    "    checkCave(caveNumber)\n",
    "    \n",
    "    print('\\nVocê gostaria de jogar novamente? (sim ou não)')\n",
    "    \n",
    "    playAgain = input()"
   ]
  },
  {
   "cell_type": "markdown",
   "id": "dietary-chambers",
   "metadata": {},
   "source": [
    "#### Vamos ler o código acima e entender o que ele faz e como faz.\n",
    "\n",
    "Rode uma vez o código acima e veja como ele se comporta."
   ]
  },
  {
   "cell_type": "markdown",
   "id": "sharing-referral",
   "metadata": {},
   "source": [
    "Vou fazer algumas perguntas para que possamos explorar melhor o tema:\n",
    "\n",
    "- o que a função displayIntro faz? Em que momento ela é chamada?\n",
    "- qual o papel da função chooseCave?\n",
    "- o que o código random.randint faz? (Já vimos isso antes rs)\n",
    "- o que o código time.sleep faz? \n",
    "- em que momento cada função está sendo chamada?\n",
    "- qual é o papel da variável playAgain? Qual é o seu primeiro valor?\n",
    "- Que valores de playAgain são aceitos caso você queira jogar novamente?"
   ]
  },
  {
   "cell_type": "code",
   "execution_count": null,
   "id": "searching-ontario",
   "metadata": {},
   "outputs": [],
   "source": []
  }
 ],
 "metadata": {
  "kernelspec": {
   "display_name": "Python 3",
   "language": "python",
   "name": "python3"
  },
  "language_info": {
   "codemirror_mode": {
    "name": "ipython",
    "version": 3
   },
   "file_extension": ".py",
   "mimetype": "text/x-python",
   "name": "python",
   "nbconvert_exporter": "python",
   "pygments_lexer": "ipython3",
   "version": "3.9.2"
  }
 },
 "nbformat": 4,
 "nbformat_minor": 5
}
