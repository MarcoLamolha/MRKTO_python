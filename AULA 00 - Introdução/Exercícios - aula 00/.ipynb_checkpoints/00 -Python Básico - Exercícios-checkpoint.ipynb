{
 "cells": [
  {
   "cell_type": "markdown",
   "metadata": {},
   "source": [
    "# Exercícios:\n",
    "\n",
    "Hora de treinar nossos novos conhecimentos! Utilize a área abaixo para criar os códigos solicitados."
   ]
  },
  {
   "cell_type": "markdown",
   "metadata": {},
   "source": [
    "1) Criar uma função para calcular a média de 4 notas. As notas devem ser inputs da função."
   ]
  },
  {
   "cell_type": "code",
   "execution_count": 54,
   "metadata": {},
   "outputs": [],
   "source": [
    "def média(a,b,c,d):\n",
    "    média = (a+b+c+d)/4\n",
    "    return média"
   ]
  },
  {
   "cell_type": "code",
   "execution_count": 2,
   "metadata": {},
   "outputs": [
    {
     "data": {
      "text/plain": [
       "2.0"
      ]
     },
     "execution_count": 2,
     "metadata": {},
     "output_type": "execute_result"
    }
   ],
   "source": [
    "média(2,2,2,2)"
   ]
  },
  {
   "cell_type": "markdown",
   "metadata": {},
   "source": [
    "2) Aprimorar a função anterior para que ela nos diga se o aluno foi ou não aprovado. O critério de aprovação é que a média seja maior ou igual a 7."
   ]
  },
  {
   "cell_type": "code",
   "execution_count": 2,
   "metadata": {},
   "outputs": [],
   "source": [
    "def média(a,b,c,d):\n",
    "    média = (a+b+c+d)/4\n",
    "    if média > 7:\n",
    "        print('Aprovado')\n",
    "        return média\n",
    "    else:\n",
    "        print('Não aprovado')\n",
    "        return média\n",
    "      "
   ]
  },
  {
   "cell_type": "code",
   "execution_count": 3,
   "metadata": {},
   "outputs": [
    {
     "name": "stdout",
     "output_type": "stream",
     "text": [
      "Aprovado\n"
     ]
    },
    {
     "data": {
      "text/plain": [
       "8.0"
      ]
     },
     "execution_count": 3,
     "metadata": {},
     "output_type": "execute_result"
    }
   ],
   "source": [
    "média(8,8,8,8)"
   ]
  },
  {
   "cell_type": "markdown",
   "metadata": {},
   "source": [
    "3) Agora queremos adotar um segundo critério, que é a presença em mais de 80% das aulas. A porcentagem de presença também deve ser input da função."
   ]
  },
  {
   "cell_type": "code",
   "execution_count": 84,
   "metadata": {},
   "outputs": [],
   "source": [
    "def média(a,b,c,d,e):\n",
    "    média = (a+b+c+d)/4\n",
    "    presenca = e\n",
    "    if média > 7 and presenca > 80:\n",
    "        print('Aprovado')\n",
    "        print(presenca,'%')\n",
    "        return média\n",
    "        \n",
    "    elif média > 7 and presenca < 80:\n",
    "        print('Reprovado por frequencia')\n",
    "        print(presenca)\n",
    "        return média\n",
    "    \n",
    "    elif média < 7 and presenca > 80:\n",
    "        print('Reprovado por nota')\n",
    "        print(presenca)\n",
    "        return média\n",
    "    else:\n",
    "        print('Reprovado pro nota e frequencia')\n",
    "        print(presenca)\n",
    "        return média\n",
    "\n",
    "      "
   ]
  },
  {
   "cell_type": "code",
   "execution_count": 88,
   "metadata": {},
   "outputs": [
    {
     "name": "stdout",
     "output_type": "stream",
     "text": [
      "Reprovado pro nota e frequencia\n",
      "70\n"
     ]
    },
    {
     "data": {
      "text/plain": [
       "2.0"
      ]
     },
     "execution_count": 88,
     "metadata": {},
     "output_type": "execute_result"
    }
   ],
   "source": [
    "média(2,2,2,2,70)"
   ]
  }
 ],
 "metadata": {
  "kernelspec": {
   "display_name": "Python 3",
   "language": "python",
   "name": "python3"
  },
  "language_info": {
   "codemirror_mode": {
    "name": "ipython",
    "version": 3
   },
   "file_extension": ".py",
   "mimetype": "text/x-python",
   "name": "python",
   "nbconvert_exporter": "python",
   "pygments_lexer": "ipython3",
   "version": "3.12.1"
  }
 },
 "nbformat": 4,
 "nbformat_minor": 4
}
