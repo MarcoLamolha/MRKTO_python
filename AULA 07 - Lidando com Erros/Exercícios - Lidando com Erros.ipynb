{
 "cells": [
  {
   "cell_type": "markdown",
   "id": "retired-childhood",
   "metadata": {},
   "source": [
    "# Exercícios - Lidando com Erros"
   ]
  },
  {
   "cell_type": "markdown",
   "id": "proved-trail",
   "metadata": {},
   "source": [
    "Busque entender o objetivo dos códigos abaixo e use a estrutura de try/except/finally para lidar com os erros. Eventualmente será necessário usar a criatividade para arrumar o código."
   ]
  },
  {
   "cell_type": "markdown",
   "id": "agreed-rabbit",
   "metadata": {},
   "source": [
    "__________________________"
   ]
  },
  {
   "cell_type": "markdown",
   "id": "hispanic-approach",
   "metadata": {},
   "source": [
    "### 1) \n",
    "Neste momento do código a variável 'esta_variavel' pode não ter sido definida. Crie uma alternativa usando o try/except para permitir que o usuário defina 'esta_variavel' caso ela não tenha sido definida."
   ]
  },
  {
   "cell_type": "code",
   "execution_count": 2,
   "id": "diverse-screen",
   "metadata": {},
   "outputs": [
    {
     "ename": "NameError",
     "evalue": "name 'esta_variavel' is not defined",
     "output_type": "error",
     "traceback": [
      "\u001b[1;31m---------------------------------------------------------------------------\u001b[0m",
      "\u001b[1;31mNameError\u001b[0m                                 Traceback (most recent call last)",
      "\u001b[1;32m<ipython-input-2-2df647a3db9b>\u001b[0m in \u001b[0;36m<module>\u001b[1;34m\u001b[0m\n\u001b[1;32m----> 1\u001b[1;33m \u001b[0mprint\u001b[0m\u001b[1;33m(\u001b[0m\u001b[0mesta_variavel\u001b[0m\u001b[1;33m)\u001b[0m\u001b[1;33m\u001b[0m\u001b[1;33m\u001b[0m\u001b[0m\n\u001b[0m",
      "\u001b[1;31mNameError\u001b[0m: name 'esta_variavel' is not defined"
     ]
    }
   ],
   "source": [
    "print(esta_variavel)"
   ]
  },
  {
   "cell_type": "code",
   "execution_count": 3,
   "id": "exact-breach",
   "metadata": {},
   "outputs": [
    {
     "name": "stdout",
     "output_type": "stream",
     "text": [
      "\"esta_variavel\" não foi definida, digite um valor para ela6\n"
     ]
    }
   ],
   "source": [
    "try:\n",
    "    print(esta_variavel)\n",
    "except NameError:\n",
    "    esta_variavel = input('\"esta_variavel\" não foi definida, digite um valor para ela')"
   ]
  },
  {
   "cell_type": "markdown",
   "id": "imported-lincoln",
   "metadata": {},
   "source": [
    "__________________________"
   ]
  },
  {
   "cell_type": "markdown",
   "id": "distant-springer",
   "metadata": {},
   "source": [
    "### 2) \n",
    "Use try/except para lidar com o erro apresentado por esta função, no caso em que o denominador é 0. Para este caso queremos que o retorno da função seja a string 'ZeroDivisionError'."
   ]
  },
  {
   "cell_type": "code",
   "execution_count": 4,
   "id": "appropriate-school",
   "metadata": {},
   "outputs": [],
   "source": [
    "def divisao(numerador, denominador):\n",
    "    \n",
    "    return numerador/denominador"
   ]
  },
  {
   "cell_type": "code",
   "execution_count": 5,
   "id": "trained-special",
   "metadata": {},
   "outputs": [
    {
     "ename": "ZeroDivisionError",
     "evalue": "division by zero",
     "output_type": "error",
     "traceback": [
      "\u001b[1;31m---------------------------------------------------------------------------\u001b[0m",
      "\u001b[1;31mZeroDivisionError\u001b[0m                         Traceback (most recent call last)",
      "\u001b[1;32m<ipython-input-5-ed28d2df82da>\u001b[0m in \u001b[0;36m<module>\u001b[1;34m\u001b[0m\n\u001b[1;32m----> 1\u001b[1;33m \u001b[0mdivisao\u001b[0m\u001b[1;33m(\u001b[0m\u001b[1;36m2\u001b[0m\u001b[1;33m,\u001b[0m \u001b[1;36m0\u001b[0m\u001b[1;33m)\u001b[0m\u001b[1;33m\u001b[0m\u001b[1;33m\u001b[0m\u001b[0m\n\u001b[0m",
      "\u001b[1;32m<ipython-input-4-e65dfb9bc079>\u001b[0m in \u001b[0;36mdivisao\u001b[1;34m(numerador, denominador)\u001b[0m\n\u001b[0;32m      1\u001b[0m \u001b[1;32mdef\u001b[0m \u001b[0mdivisao\u001b[0m\u001b[1;33m(\u001b[0m\u001b[0mnumerador\u001b[0m\u001b[1;33m,\u001b[0m \u001b[0mdenominador\u001b[0m\u001b[1;33m)\u001b[0m\u001b[1;33m:\u001b[0m\u001b[1;33m\u001b[0m\u001b[1;33m\u001b[0m\u001b[0m\n\u001b[0;32m      2\u001b[0m \u001b[1;33m\u001b[0m\u001b[0m\n\u001b[1;32m----> 3\u001b[1;33m     \u001b[1;32mreturn\u001b[0m \u001b[0mnumerador\u001b[0m\u001b[1;33m/\u001b[0m\u001b[0mdenominador\u001b[0m\u001b[1;33m\u001b[0m\u001b[1;33m\u001b[0m\u001b[0m\n\u001b[0m",
      "\u001b[1;31mZeroDivisionError\u001b[0m: division by zero"
     ]
    }
   ],
   "source": [
    "divisao(2, 0)"
   ]
  },
  {
   "cell_type": "code",
   "execution_count": 9,
   "id": "external-executive",
   "metadata": {},
   "outputs": [],
   "source": [
    "def divisao(numerador, denominador):\n",
    "    \n",
    "    try:\n",
    "        resultado = numerador/denominador\n",
    "    \n",
    "    except ZeroDivisionError:\n",
    "        \n",
    "        resultado = 'ZeroDivisionError'\n",
    "    \n",
    "    return resultado"
   ]
  },
  {
   "cell_type": "code",
   "execution_count": 10,
   "id": "expressed-writing",
   "metadata": {},
   "outputs": [
    {
     "data": {
      "text/plain": [
       "'ZeroDivisionError'"
      ]
     },
     "execution_count": 10,
     "metadata": {},
     "output_type": "execute_result"
    }
   ],
   "source": [
    "divisao(2, 0)"
   ]
  },
  {
   "cell_type": "markdown",
   "id": "under-bunch",
   "metadata": {},
   "source": [
    "__________________________"
   ]
  },
  {
   "cell_type": "markdown",
   "id": "fallen-flush",
   "metadata": {},
   "source": [
    "### 3) \n",
    "\n",
    "Criamos a função abaixo para encontrar o mínimo valor de uma lista. No momento da criação não pensamos que algumas das listas que esta função analisará estarão vazias. Faça as alterações devidas para que, em caso de lista vazia, nossa função retorne None.\n"
   ]
  },
  {
   "cell_type": "code",
   "execution_count": 2,
   "id": "understanding-cincinnati",
   "metadata": {},
   "outputs": [],
   "source": [
    "def minimo(lista):\n",
    "\n",
    "    minimo = lista[0]\n",
    "\n",
    "    for item in lista:\n",
    "        \n",
    "        if item < minimo:\n",
    "            \n",
    "            minimo = item\n",
    "            \n",
    "    return minimo"
   ]
  },
  {
   "cell_type": "code",
   "execution_count": 4,
   "id": "imported-connection",
   "metadata": {},
   "outputs": [
    {
     "data": {
      "text/plain": [
       "-13"
      ]
     },
     "execution_count": 4,
     "metadata": {},
     "output_type": "execute_result"
    }
   ],
   "source": [
    "minimo([1,-13,20,57,46,11])"
   ]
  },
  {
   "cell_type": "code",
   "execution_count": 6,
   "id": "royal-closer",
   "metadata": {},
   "outputs": [],
   "source": [
    "lista_vazia = []"
   ]
  },
  {
   "cell_type": "code",
   "execution_count": 7,
   "id": "suffering-policy",
   "metadata": {},
   "outputs": [
    {
     "ename": "IndexError",
     "evalue": "list index out of range",
     "output_type": "error",
     "traceback": [
      "\u001b[1;31m---------------------------------------------------------------------------\u001b[0m",
      "\u001b[1;31mIndexError\u001b[0m                                Traceback (most recent call last)",
      "\u001b[1;32m<ipython-input-7-f6fd3e46bac8>\u001b[0m in \u001b[0;36m<module>\u001b[1;34m\u001b[0m\n\u001b[1;32m----> 1\u001b[1;33m \u001b[0mminimo\u001b[0m\u001b[1;33m(\u001b[0m\u001b[0mlista_vazia\u001b[0m\u001b[1;33m)\u001b[0m\u001b[1;33m\u001b[0m\u001b[1;33m\u001b[0m\u001b[0m\n\u001b[0m",
      "\u001b[1;32m<ipython-input-2-ce393f3edb26>\u001b[0m in \u001b[0;36mminimo\u001b[1;34m(lista)\u001b[0m\n\u001b[0;32m      1\u001b[0m \u001b[1;32mdef\u001b[0m \u001b[0mminimo\u001b[0m\u001b[1;33m(\u001b[0m\u001b[0mlista\u001b[0m\u001b[1;33m)\u001b[0m\u001b[1;33m:\u001b[0m\u001b[1;33m\u001b[0m\u001b[1;33m\u001b[0m\u001b[0m\n\u001b[0;32m      2\u001b[0m \u001b[1;33m\u001b[0m\u001b[0m\n\u001b[1;32m----> 3\u001b[1;33m     \u001b[0mminimo\u001b[0m \u001b[1;33m=\u001b[0m \u001b[0mlista\u001b[0m\u001b[1;33m[\u001b[0m\u001b[1;36m0\u001b[0m\u001b[1;33m]\u001b[0m\u001b[1;33m\u001b[0m\u001b[1;33m\u001b[0m\u001b[0m\n\u001b[0m\u001b[0;32m      4\u001b[0m \u001b[1;33m\u001b[0m\u001b[0m\n\u001b[0;32m      5\u001b[0m     \u001b[1;32mfor\u001b[0m \u001b[0mitem\u001b[0m \u001b[1;32min\u001b[0m \u001b[0mlista\u001b[0m\u001b[1;33m:\u001b[0m\u001b[1;33m\u001b[0m\u001b[1;33m\u001b[0m\u001b[0m\n",
      "\u001b[1;31mIndexError\u001b[0m: list index out of range"
     ]
    }
   ],
   "source": [
    "minimo(lista_vazia)"
   ]
  },
  {
   "cell_type": "code",
   "execution_count": 8,
   "id": "faced-april",
   "metadata": {},
   "outputs": [],
   "source": [
    "def minimo(lista):\n",
    "    \n",
    "    try:\n",
    "        minimo = lista[0]\n",
    "    \n",
    "        for item in lista:\n",
    "\n",
    "            if item < minimo:\n",
    "\n",
    "                minimo = item\n",
    "        \n",
    "        return minimo\n",
    "    \n",
    "    except IndexError:\n",
    "        \n",
    "        return None"
   ]
  },
  {
   "cell_type": "code",
   "execution_count": 10,
   "id": "baking-moldova",
   "metadata": {},
   "outputs": [
    {
     "data": {
      "text/plain": [
       "-13"
      ]
     },
     "execution_count": 10,
     "metadata": {},
     "output_type": "execute_result"
    }
   ],
   "source": [
    "minimo([1,-13,20,57,46,11])"
   ]
  },
  {
   "cell_type": "code",
   "execution_count": 13,
   "id": "interracial-charlotte",
   "metadata": {},
   "outputs": [],
   "source": [
    "minimo(lista_vazia)"
   ]
  },
  {
   "cell_type": "code",
   "execution_count": null,
   "id": "several-prince",
   "metadata": {},
   "outputs": [],
   "source": []
  }
 ],
 "metadata": {
  "kernelspec": {
   "display_name": "Python 3",
   "language": "python",
   "name": "python3"
  },
  "language_info": {
   "codemirror_mode": {
    "name": "ipython",
    "version": 3
   },
   "file_extension": ".py",
   "mimetype": "text/x-python",
   "name": "python",
   "nbconvert_exporter": "python",
   "pygments_lexer": "ipython3",
   "version": "3.9.2"
  }
 },
 "nbformat": 4,
 "nbformat_minor": 5
}
