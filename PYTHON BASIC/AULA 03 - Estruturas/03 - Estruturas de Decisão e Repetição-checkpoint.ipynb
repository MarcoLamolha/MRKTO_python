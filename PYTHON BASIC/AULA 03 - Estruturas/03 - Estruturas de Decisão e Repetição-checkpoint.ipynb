{
 "cells": [
  {
   "cell_type": "markdown",
   "metadata": {},
   "source": [
    "<h1 style=\"text-align: center;\"> DataMiner University</h1>\n",
    "\n",
    "<h3 style=\"text-align: center;\">Bem-vind@s ao seleto grupo de analistas do DataMiner!</h3>\n",
    "\n",
    "\n",
    "<img src='../Ilustracoes/wearetechlovers.png' />\n",
    "\n",
    "_______________________________________________"
   ]
  },
  {
   "cell_type": "markdown",
   "metadata": {},
   "source": [
    "<h1 style=\"text-align: center;\">Estruturas de Decisão e Estruturas de Repetição</h1>"
   ]
  },
  {
   "cell_type": "markdown",
   "metadata": {},
   "source": [
    "### Tópicos\n",
    "\n",
    "#### Estrutura de Decisão:\n",
    "- if\n",
    "- anatomia da estrutura de decisão\n",
    "- if, else\n",
    "- if, elif, else\n",
    "- múltiplos elifs\n",
    "- tipos usuais de condição\n",
    "\n",
    "\n",
    "#### Estrutura de Repetição:\n",
    "Laços de repetição\n",
    "\n",
    "- While\n",
    "- For\n",
    "- Break e Continue\n",
    "\n",
    "#### Outros detalhes:\n",
    "\n",
    "- range\n",
    "- condições compostas (and e or)\n",
    "\n",
    "----------------------------------------------"
   ]
  },
  {
   "cell_type": "markdown",
   "metadata": {},
   "source": [
    "#### [ if ]\n",
    "Se CONDIÇÃO, então X\n"
   ]
  },
  {
   "cell_type": "markdown",
   "metadata": {},
   "source": [
    "<img src=https://cdn.programiz.com/sites/tutorial2program/files/Python_if_statement.jpg width=\"350\" height=\"350\"/>\n"
   ]
  },
  {
   "cell_type": "code",
   "execution_count": 16,
   "metadata": {},
   "outputs": [
    {
     "name": "stdout",
     "output_type": "stream",
     "text": [
      "FinTech\n"
     ]
    }
   ],
   "source": [
    "if \"FinTech\" == \"FinTech\":\n",
    "    print(\"É FinTech\")"
   ]
  },
  {
   "cell_type": "code",
   "execution_count": 17,
   "metadata": {},
   "outputs": [],
   "source": [
    "if \"MarTech\" == \"FinTech\":\n",
    "    print(\"É FinTech\")"
   ]
  },
  {
   "cell_type": "markdown",
   "metadata": {},
   "source": [
    "Repare que o código que vem depois do if (respeitando a identação) só é executado quando a condição é satisfeita.\n",
    "\n",
    "#### Anatomia das estruturas de decisão:\n"
   ]
  },
  {
   "cell_type": "markdown",
   "metadata": {},
   "source": [
    "<img src='../Ilustracoes/Anatomia da estrutura condicional.png' />"
   ]
  },
  {
   "cell_type": "markdown",
   "metadata": {},
   "source": [
    "### Identação:\n",
    "\n",
    "[Lembrete sobre identação]: Neste tópico é relevante falarmos sobre identação. Trata-se das distâncias (ou recuo) com que se escrevem os blocos de código. No caso de diversas linguagens de programação a identação tem uma função meramente estética e facilita a leitura do código. Em python é diferente: a identação tem um papel importante e posiciona a hierarquia dos códigos.\n",
    "\n",
    "Nos exemplos abaixo, repare que as linhas de código que seguem após o if estão avançadas em um \"TAB\" ou \"4 espaços\". Isso mostra que são códigos que só serão executados se a condição do if for satisfeita. Esta mesma estrutura será vista em funções e estruturas de repetição, por exemplo."
   ]
  },
  {
   "cell_type": "code",
   "execution_count": 18,
   "metadata": {},
   "outputs": [
    {
     "name": "stdout",
     "output_type": "stream",
     "text": [
      "Dentro da Identação\n",
      "Fora da Identação\n",
      "6\n"
     ]
    }
   ],
   "source": [
    "a = 4\n",
    "\n",
    "if a < 5:\n",
    "    a = a + 2\n",
    "    print('Dentro da Identação')\n",
    "\n",
    "print('Fora da Identação')\n",
    "print(a)"
   ]
  },
  {
   "cell_type": "code",
   "execution_count": 19,
   "metadata": {
    "scrolled": false
   },
   "outputs": [
    {
     "name": "stdout",
     "output_type": "stream",
     "text": [
      "Fora da Identação\n",
      "6\n"
     ]
    }
   ],
   "source": [
    "a = 6\n",
    "\n",
    "if a < 5:\n",
    "    a = a + 2\n",
    "    print('Dentro da Identação')\n",
    "\n",
    "print('Fora da Identação')\n",
    "print(a)"
   ]
  },
  {
   "cell_type": "markdown",
   "metadata": {},
   "source": [
    "### Área de Prática:"
   ]
  },
  {
   "cell_type": "markdown",
   "metadata": {},
   "source": [
    "Leia o código abaixo e busque prever a resposta que o programa geraria."
   ]
  },
  {
   "cell_type": "code",
   "execution_count": null,
   "metadata": {},
   "outputs": [],
   "source": [
    "'''\n",
    "c = 3\n",
    "\n",
    "if c < 5:\n",
    "    c = c + 2\n",
    "    print('Dentro da Identação')\n",
    "\n",
    "print('Fora da Identação')\n",
    "print(c)\n",
    "'''"
   ]
  },
  {
   "cell_type": "markdown",
   "metadata": {},
   "source": [
    "#### [ if e else ]\n",
    "\n",
    "Se CONDIÇÃO, então X. Caso contrário Y"
   ]
  },
  {
   "cell_type": "code",
   "execution_count": 7,
   "metadata": {},
   "outputs": [
    {
     "name": "stdout",
     "output_type": "stream",
     "text": [
      "5 não é maior que 5\n"
     ]
    }
   ],
   "source": [
    "a = 5\n",
    "b = 5\n",
    "\n",
    "if a > b:\n",
    "    print(f'{a} é maior que {b}')\n",
    "else:\n",
    "    print(f'{a} não é maior que {b}')"
   ]
  },
  {
   "cell_type": "markdown",
   "metadata": {},
   "source": [
    "#### [if, elif e else]\n",
    "\n",
    "Se CONDIÇÃO, então X. Se CONDIÇÃO_2, então Y. Caso contrário Z"
   ]
  },
  {
   "cell_type": "markdown",
   "metadata": {},
   "source": [
    "<img src=https://cdn.programiz.com/sites/tutorial2program/files/Python_if_elif_else_statement.jpg width=\"350\" height=\"350\"/>\n",
    "\n"
   ]
  },
  {
   "cell_type": "code",
   "execution_count": 5,
   "metadata": {},
   "outputs": [
    {
     "name": "stdout",
     "output_type": "stream",
     "text": [
      "5 é igual a 5\n"
     ]
    }
   ],
   "source": [
    "a = 5\n",
    "b = 5\n",
    "\n",
    "if a > b:\n",
    "    print(f'{a} é maior que {b}')\n",
    "    \n",
    "elif a == b:\n",
    "    print(f'{a} é igual a {b}')\n",
    "    \n",
    "else:\n",
    "    print(f'{a} não é maior que {b}')"
   ]
  },
  {
   "cell_type": "markdown",
   "metadata": {},
   "source": [
    "### Múltiplos \"elif\":\n",
    "\n",
    "Obs: observe que 'elif' é a contração de 'else' + 'if' e denota "
   ]
  },
  {
   "cell_type": "code",
   "execution_count": 5,
   "metadata": {},
   "outputs": [
    {
     "name": "stdout",
     "output_type": "stream",
     "text": [
      "Você fez um bom trabalho\n"
     ]
    }
   ],
   "source": [
    "nota = 7\n",
    "\n",
    "if nota >= 9:\n",
    "    print('Parabéns, seu trabalho foi exemplar')\n",
    "    \n",
    "elif nota >= 7:\n",
    "    print('Você fez um bom trabalho')\n",
    "\n",
    "elif nota >= 5:\n",
    "    print('Seu trabalho foi ok, mas pode melhorar')\n",
    "    \n",
    "else:\n",
    "    print('Você deixou a desejar neste momento. O que podemos fazer para melhorar?')"
   ]
  },
  {
   "cell_type": "markdown",
   "metadata": {},
   "source": [
    "Relembrando conceitos: FUNÇÃO\n",
    "\n",
    "Podemos encapsular todo o código acima em uma função! Vamos ver como ficaria:"
   ]
  },
  {
   "cell_type": "code",
   "execution_count": 6,
   "metadata": {},
   "outputs": [],
   "source": [
    "def comenta_desempenho(nota):\n",
    "    \n",
    "    if nota >= 9:\n",
    "        print('Parabéns, seu trabalho foi exemplar')\n",
    "    \n",
    "    elif nota >= 7:\n",
    "        print('Você fez um bom trabalho')\n",
    "\n",
    "    elif nota >= 5:\n",
    "        print('Seu trabalho foi ok, mas pode melhorar')\n",
    "    \n",
    "    else:\n",
    "        print('Você deixou a desejar neste momento. O que podemos fazer para melhorar?')"
   ]
  },
  {
   "cell_type": "code",
   "execution_count": 7,
   "metadata": {},
   "outputs": [
    {
     "name": "stdout",
     "output_type": "stream",
     "text": [
      "Parabéns, seu trabalho foi exemplar\n"
     ]
    }
   ],
   "source": [
    "comenta_desempenho(10)"
   ]
  },
  {
   "cell_type": "code",
   "execution_count": 8,
   "metadata": {},
   "outputs": [
    {
     "name": "stdout",
     "output_type": "stream",
     "text": [
      "Seu trabalho foi ok, mas pode melhorar\n"
     ]
    }
   ],
   "source": [
    "comenta_desempenho(6)"
   ]
  },
  {
   "cell_type": "code",
   "execution_count": 9,
   "metadata": {},
   "outputs": [
    {
     "name": "stdout",
     "output_type": "stream",
     "text": [
      "Você deixou a desejar neste momento. O que podemos fazer para melhorar?\n"
     ]
    }
   ],
   "source": [
    "comenta_desempenho(4)"
   ]
  },
  {
   "cell_type": "markdown",
   "metadata": {},
   "source": [
    "### Tipos interessantes de condição:\n",
    "\n",
    "- Comparações de valores: \n",
    "        - a > b, \n",
    "        - a==b \n",
    "        - a<b\n",
    "- Continência:\n",
    "        - elemento in conjunto\n",
    "        - letra in string\n",
    "- Existência:\n",
    "        - se elemento (tem o efeito de verificar se o elemento é não nulo)"
   ]
  },
  {
   "cell_type": "code",
   "execution_count": 11,
   "metadata": {},
   "outputs": [
    {
     "name": "stdout",
     "output_type": "stream",
     "text": [
      "ok\n"
     ]
    }
   ],
   "source": [
    "a = []\n",
    "\n",
    "if a:\n",
    "    print('ko')\n",
    "else:\n",
    "    print('ok')"
   ]
  },
  {
   "cell_type": "code",
   "execution_count": null,
   "metadata": {},
   "outputs": [],
   "source": [
    "a = ['D&C','D4S','CS','CORPORATE SERVICES']\n",
    "\n",
    "if a:\n",
    "    print('ko')\n",
    "else:\n",
    "    print('ok')"
   ]
  },
  {
   "cell_type": "code",
   "execution_count": 10,
   "metadata": {},
   "outputs": [
    {
     "ename": "SyntaxError",
     "evalue": "invalid syntax (<ipython-input-10-8edcf9ff8e47>, line 1)",
     "output_type": "error",
     "traceback": [
      "\u001b[1;36m  File \u001b[1;32m\"<ipython-input-10-8edcf9ff8e47>\"\u001b[1;36m, line \u001b[1;32m1\u001b[0m\n\u001b[1;33m    in\u001b[0m\n\u001b[1;37m    ^\u001b[0m\n\u001b[1;31mSyntaxError\u001b[0m\u001b[1;31m:\u001b[0m invalid syntax\n"
     ]
    }
   ],
   "source": [
    "in\n",
    "None\n",
    "not\n",
    "not in\n",
    "if not\n"
   ]
  },
  {
   "cell_type": "code",
   "execution_count": null,
   "metadata": {},
   "outputs": [],
   "source": []
  },
  {
   "cell_type": "code",
   "execution_count": null,
   "metadata": {},
   "outputs": [],
   "source": []
  },
  {
   "cell_type": "markdown",
   "metadata": {},
   "source": [
    "### Exemplo:"
   ]
  },
  {
   "cell_type": "code",
   "execution_count": 26,
   "metadata": {},
   "outputs": [
    {
     "name": "stdout",
     "output_type": "stream",
     "text": [
      "A letra consta!\n"
     ]
    }
   ],
   "source": [
    "letra = 'a'\n",
    "\n",
    "if letra in 'startup':\n",
    "    print('A letra consta!')"
   ]
  },
  {
   "cell_type": "code",
   "execution_count": 29,
   "metadata": {
    "scrolled": true
   },
   "outputs": [
    {
     "name": "stdout",
     "output_type": "stream",
     "text": [
      "O setor consta!\n"
     ]
    }
   ],
   "source": [
    "setor = 'FinTech'\n",
    "\n",
    "if setor in ['FinTech', 'MatTech', 'RetailTech']:\n",
    "    print('O setor consta!')"
   ]
  },
  {
   "cell_type": "code",
   "execution_count": 20,
   "metadata": {},
   "outputs": [
    {
     "name": "stdout",
     "output_type": "stream",
     "text": [
      "5\n"
     ]
    }
   ],
   "source": [
    "a = 5\n",
    "if a:\n",
    "    print(a)"
   ]
  },
  {
   "cell_type": "code",
   "execution_count": 21,
   "metadata": {},
   "outputs": [],
   "source": [
    "a = 0\n",
    "if a:\n",
    "    print(a)"
   ]
  },
  {
   "cell_type": "code",
   "execution_count": 31,
   "metadata": {},
   "outputs": [],
   "source": [
    "publico = dict()\n",
    "\n",
    "if publico:\n",
    "    print('O dicionário \"publico\" tem elementos')"
   ]
  },
  {
   "cell_type": "code",
   "execution_count": 32,
   "metadata": {},
   "outputs": [
    {
     "name": "stdout",
     "output_type": "stream",
     "text": [
      "O dicionário \"publico\" tem elementos\n"
     ]
    }
   ],
   "source": [
    "publico = {'B2B':200, 'B2C':500}\n",
    "\n",
    "if publico:\n",
    "    print('O dicionário \"publico\" tem elementos')"
   ]
  },
  {
   "cell_type": "code",
   "execution_count": 9,
   "metadata": {},
   "outputs": [
    {
     "name": "stdout",
     "output_type": "stream",
     "text": [
      "Verdade\n"
     ]
    }
   ],
   "source": [
    "if 'startup' in ['startup', 'corporação', 'barraquinha de hotdog']:\n",
    "    print('Verdade')"
   ]
  },
  {
   "cell_type": "markdown",
   "metadata": {},
   "source": [
    "## Estruturas de Repetição"
   ]
  },
  {
   "cell_type": "markdown",
   "metadata": {},
   "source": [
    "Laços de repetição\n",
    "\n",
    "- While\n",
    "- For\n",
    "- Break e Continue\n"
   ]
  },
  {
   "cell_type": "markdown",
   "metadata": {},
   "source": [
    "#### While | Enquanto\n",
    "Enquanto a condição não for satisfeita a repetição continuará."
   ]
  },
  {
   "cell_type": "code",
   "execution_count": 1,
   "metadata": {
    "scrolled": true
   },
   "outputs": [
    {
     "name": "stdout",
     "output_type": "stream",
     "text": [
      "0\n",
      "1\n",
      "2\n",
      "3\n",
      "4\n"
     ]
    }
   ],
   "source": [
    "a = 0\n",
    "\n",
    "while a < 5:\n",
    "    print(a)\n",
    "    a = a + 1"
   ]
  },
  {
   "cell_type": "markdown",
   "metadata": {},
   "source": [
    "Cuidado: é possível criar loops infinitos quando a condição para que o while pare nunca é verdadeira. Se em algum momento isso acontecer no seu Jupyter Notebook, vá até \"Kernel\" e selecione \"Shutdown\". Vamos ter que reiniciar o Jupyter.\n",
    "\n",
    "\n",
    "Por exemplo:\n",
    "\n",
    "\n",
    "<code>a = 0\n",
    "while a < 5:\n",
    "    print(a)\n",
    "    a = a - 1 \n",
    "</code>\n",
    "    \n",
    "Basicamente \"a\" terá sempre um valor negativo e jamais satisfará a condição para o término do loop."
   ]
  },
  {
   "cell_type": "markdown",
   "metadata": {},
   "source": [
    "#### break:\n",
    "\n",
    "Outra forma de sair dos loops (sejam loops for ou while) é através do break:"
   ]
  },
  {
   "cell_type": "code",
   "execution_count": 4,
   "metadata": {},
   "outputs": [
    {
     "name": "stdout",
     "output_type": "stream",
     "text": [
      "20 ['olá', 'oi', 'oi', 'oi', 'oi', 'oi', 'oi', 'oi', 'oi', 'oi', 'oi']\n"
     ]
    }
   ],
   "source": [
    "condicao = True\n",
    "a = 30\n",
    "b = ['olá']\n",
    "\n",
    "while condicao == True:\n",
    "    \n",
    "    b.append('oi')\n",
    "    a = a - 1\n",
    "    \n",
    "    if a == 20:\n",
    "        break\n",
    "\n",
    "print(a,b)"
   ]
  },
  {
   "cell_type": "code",
   "execution_count": null,
   "metadata": {},
   "outputs": [],
   "source": []
  },
  {
   "cell_type": "code",
   "execution_count": null,
   "metadata": {},
   "outputs": [],
   "source": [
    "while True:\n",
    "    numero = input('Digite um número:  ')\n",
    "    \n",
    "    if numero.isnumeric():\n",
    "        break\n"
   ]
  },
  {
   "cell_type": "markdown",
   "metadata": {},
   "source": [
    "#### continue:\n",
    "\n",
    "O comando continue em um loop tem o seguinte efeito: interrompe o ciclo atual e pula para o seguinte."
   ]
  },
  {
   "cell_type": "code",
   "execution_count": 6,
   "metadata": {},
   "outputs": [
    {
     "name": "stdout",
     "output_type": "stream",
     "text": [
      "2\n",
      "3\n",
      "4\n",
      "6\n",
      "7\n",
      "8\n",
      "9\n",
      "10\n"
     ]
    }
   ],
   "source": [
    "a = 1\n",
    "\n",
    "while a < 10:\n",
    "    \n",
    "    a = a + 1\n",
    "    \n",
    "    if a == 5:\n",
    "        \n",
    "        continue\n",
    "    \n",
    "    print(a)"
   ]
  },
  {
   "cell_type": "markdown",
   "metadata": {},
   "source": [
    "No exemplo acima, repare que não vemos o número 5 impresso como resultado. Isso porque, através do continue, pedimos para que o código pulasse para o loop seguinte antes de chegar ao comando print."
   ]
  },
  {
   "cell_type": "markdown",
   "metadata": {},
   "source": [
    "#### For | Para cada\n",
    "Repetição da tarefa para cada item de uma sequência:"
   ]
  },
  {
   "cell_type": "code",
   "execution_count": 9,
   "metadata": {},
   "outputs": [
    {
     "name": "stdout",
     "output_type": "stream",
     "text": [
      "oi\n",
      "olá\n",
      "sudações\n",
      "e aí?!\n"
     ]
    }
   ],
   "source": [
    "sequencia = ['oi', 'olá', 'sudações', 'e aí?!'] \n",
    "\n",
    "for item in sequencia:\n",
    "    print(item)"
   ]
  },
  {
   "cell_type": "code",
   "execution_count": null,
   "metadata": {},
   "outputs": [],
   "source": [
    "for item in range(10):\n",
    "    print(item)"
   ]
  },
  {
   "cell_type": "code",
   "execution_count": null,
   "metadata": {},
   "outputs": [],
   "source": [
    "a = list(range(10))"
   ]
  },
  {
   "cell_type": "code",
   "execution_count": null,
   "metadata": {},
   "outputs": [],
   "source": [
    "a"
   ]
  },
  {
   "cell_type": "markdown",
   "metadata": {},
   "source": [
    "Trabalhando com for usando índices:"
   ]
  },
  {
   "cell_type": "code",
   "execution_count": 1,
   "metadata": {},
   "outputs": [
    {
     "name": "stdout",
     "output_type": "stream",
     "text": [
      "oi\n",
      "olá\n",
      "sudações\n",
      "e aí?!\n"
     ]
    }
   ],
   "source": [
    "sequencia = ['oi', 'olá', 'sudações', 'e aí?!'] \n",
    "\n",
    "for n in range(len(sequencia)):\n",
    "    \n",
    "    print(sequencia[n])"
   ]
  },
  {
   "cell_type": "markdown",
   "metadata": {},
   "source": [
    "#### range() e iteradores\n",
    "\n",
    "<code>\n",
    "Docstring:     \n",
    "range(stop) -> range object\n",
    "range(start, stop[, step]) -> range object\n",
    "\n",
    "Return an object that produces a sequence of integers from start (inclusive)\n",
    "to stop (exclusive) by step.  range(i, j) produces i, i+1, i+2, ..., j-1.\n",
    "start defaults to 0, and stop is omitted!  range(4) produces 0, 1, 2, 3.\n",
    "These are exactly the valid indices for a list of 4 elements.\n",
    "When step is given, it specifies the increment (or decrement).</code>"
   ]
  },
  {
   "cell_type": "code",
   "execution_count": 2,
   "metadata": {},
   "outputs": [
    {
     "data": {
      "text/plain": [
       "range(0, 10)"
      ]
     },
     "execution_count": 2,
     "metadata": {},
     "output_type": "execute_result"
    }
   ],
   "source": [
    "range(10)"
   ]
  },
  {
   "cell_type": "code",
   "execution_count": 2,
   "metadata": {},
   "outputs": [
    {
     "name": "stdout",
     "output_type": "stream",
     "text": [
      "0\n",
      "1\n",
      "2\n",
      "3\n",
      "4\n",
      "5\n",
      "6\n",
      "7\n",
      "8\n",
      "9\n"
     ]
    }
   ],
   "source": [
    "for item in range(10):\n",
    "    print(item)"
   ]
  },
  {
   "cell_type": "markdown",
   "metadata": {},
   "source": [
    "#### Associação de range e len:"
   ]
  },
  {
   "cell_type": "markdown",
   "metadata": {},
   "source": [
    "Quando é útil usar o índice e não o item em si? Um exemplo é quando temos duas sequencias que precisam ser percorridas usando o mesmo índice, como no caso abaixo:"
   ]
  },
  {
   "cell_type": "code",
   "execution_count": 4,
   "metadata": {},
   "outputs": [
    {
     "name": "stdout",
     "output_type": "stream",
     "text": [
      "0\n",
      "Nubank: 8.82\n",
      "1\n",
      "Creditas: 7.9\n",
      "2\n",
      "Amaro: 8.1\n"
     ]
    }
   ],
   "source": [
    "startups = ['Nubank', 'Creditas', 'Amaro']\n",
    "scores = [8.82, 7.9, 8.1]\n",
    "fases = ['IDEAÇÃO','MVP','OPERANDO','ESCALANDO']\n",
    "\n",
    "for item in range(len(startups)):\n",
    "    print(item)\n",
    "    print(f'{startups[item]}: {scores[item]}')"
   ]
  },
  {
   "cell_type": "markdown",
   "metadata": {},
   "source": [
    "### Condições Complexas com operadores lógicos (and, or e not) "
   ]
  },
  {
   "cell_type": "markdown",
   "metadata": {},
   "source": [
    "#### and\n",
    "condição1 and condição2: True apenas se as duas condições forem verdadeiras"
   ]
  },
  {
   "cell_type": "code",
   "execution_count": 6,
   "metadata": {},
   "outputs": [
    {
     "data": {
      "text/plain": [
       "True"
      ]
     },
     "execution_count": 6,
     "metadata": {},
     "output_type": "execute_result"
    }
   ],
   "source": [
    "True and True"
   ]
  },
  {
   "cell_type": "code",
   "execution_count": 7,
   "metadata": {},
   "outputs": [
    {
     "data": {
      "text/plain": [
       "False"
      ]
     },
     "execution_count": 7,
     "metadata": {},
     "output_type": "execute_result"
    }
   ],
   "source": [
    "True and False"
   ]
  },
  {
   "cell_type": "code",
   "execution_count": 8,
   "metadata": {},
   "outputs": [
    {
     "data": {
      "text/plain": [
       "False"
      ]
     },
     "execution_count": 8,
     "metadata": {},
     "output_type": "execute_result"
    }
   ],
   "source": [
    "False and True"
   ]
  },
  {
   "cell_type": "code",
   "execution_count": 9,
   "metadata": {},
   "outputs": [
    {
     "data": {
      "text/plain": [
       "True"
      ]
     },
     "execution_count": 9,
     "metadata": {},
     "output_type": "execute_result"
    }
   ],
   "source": [
    "(4 == 4) and (5 > 3)"
   ]
  },
  {
   "cell_type": "code",
   "execution_count": 10,
   "metadata": {},
   "outputs": [
    {
     "data": {
      "text/plain": [
       "False"
      ]
     },
     "execution_count": 10,
     "metadata": {},
     "output_type": "execute_result"
    }
   ],
   "source": [
    "(4 == 5) and (5 > 3)"
   ]
  },
  {
   "cell_type": "code",
   "execution_count": 17,
   "metadata": {},
   "outputs": [
    {
     "name": "stdout",
     "output_type": "stream",
     "text": [
      "passou na matéria\n"
     ]
    }
   ],
   "source": [
    "media = 6\n",
    "frequencia = 90\n",
    "\n",
    "if (media >= 6) and (frequencia > 70):\n",
    "    print('passou na matéria')\n",
    "\n",
    "else:\n",
    "    print('Hummm... terá que estudar mais')"
   ]
  },
  {
   "cell_type": "markdown",
   "metadata": {},
   "source": [
    "#### or\n",
    "condição1 or condição2: True se uma ou mais condições for verdadeira."
   ]
  },
  {
   "cell_type": "code",
   "execution_count": 11,
   "metadata": {},
   "outputs": [
    {
     "data": {
      "text/plain": [
       "True"
      ]
     },
     "execution_count": 11,
     "metadata": {},
     "output_type": "execute_result"
    }
   ],
   "source": [
    "True or False"
   ]
  },
  {
   "cell_type": "code",
   "execution_count": 12,
   "metadata": {},
   "outputs": [
    {
     "data": {
      "text/plain": [
       "True"
      ]
     },
     "execution_count": 12,
     "metadata": {},
     "output_type": "execute_result"
    }
   ],
   "source": [
    "False or True"
   ]
  },
  {
   "cell_type": "code",
   "execution_count": 13,
   "metadata": {},
   "outputs": [
    {
     "data": {
      "text/plain": [
       "False"
      ]
     },
     "execution_count": 13,
     "metadata": {},
     "output_type": "execute_result"
    }
   ],
   "source": [
    "False or False"
   ]
  },
  {
   "cell_type": "code",
   "execution_count": 18,
   "metadata": {},
   "outputs": [
    {
     "name": "stdout",
     "output_type": "stream",
     "text": [
      "Melhor levar guarda-chuvas!\n"
     ]
    }
   ],
   "source": [
    "nuvens_negras = True\n",
    "\n",
    "previsao_de_chuva = False\n",
    "\n",
    "if nuvens_negras or previsao_de_chuva:\n",
    "    print('Melhor levar guarda-chuvas!')\n",
    "\n",
    "else:\n",
    "    print('Não preciso de guarda-chuvas')"
   ]
  },
  {
   "cell_type": "markdown",
   "metadata": {},
   "source": [
    "#### not\n",
    "Negação da condição."
   ]
  },
  {
   "cell_type": "code",
   "execution_count": 14,
   "metadata": {},
   "outputs": [
    {
     "data": {
      "text/plain": [
       "False"
      ]
     },
     "execution_count": 14,
     "metadata": {},
     "output_type": "execute_result"
    }
   ],
   "source": [
    "not True"
   ]
  },
  {
   "cell_type": "code",
   "execution_count": 15,
   "metadata": {},
   "outputs": [
    {
     "data": {
      "text/plain": [
       "True"
      ]
     },
     "execution_count": 15,
     "metadata": {},
     "output_type": "execute_result"
    }
   ],
   "source": [
    "not False"
   ]
  },
  {
   "cell_type": "code",
   "execution_count": 16,
   "metadata": {},
   "outputs": [],
   "source": [
    "if 'a' not in 'Pessoal':\n",
    "    print('A palavra \"Pessoal\" não tem \"a\"')"
   ]
  },
  {
   "cell_type": "markdown",
   "metadata": {},
   "source": [
    "## Ao final desta aula, o que devo saber?\n",
    "\n",
    "    - A diferença do for e do while\n",
    "    - Como e quando usar o for e o while\n",
    "    - O formato: operador | condição | dois pontos | código identado"
   ]
  },
  {
   "cell_type": "markdown",
   "metadata": {},
   "source": [
    "___________________"
   ]
  },
  {
   "cell_type": "markdown",
   "metadata": {},
   "source": [
    "Outras referências:\n",
    "\n",
    "<a href=https://www.programiz.com/python-programming/if-elif-else>Proframiz - If-Elif-Else <a>\n",
    "<p>  \n",
    "<a href=https://www.w3schools.com/python/python_conditions.asp/>w3schools - If... Else <a>\n",
    "<p>\n",
    "<a href=https://www.w3schools.com/python/python_while_loops.asp/>w3schools - While Loops <a>\n",
    "<p>\n",
    "<a href=https://www.w3schools.com/python/python_for_loops.asp/>w3schools - For Loops <a>\n",
    "<p>\n",
    "<a href=https://realpython.com/python-conditional-statements/>Real Python - Operadores Condicionais<a>\n",
    "<p>\n",
    "<a href=https://realpython.com/python-for-loop/>Real Python - For Loops<a>"
   ]
  },
  {
   "cell_type": "code",
   "execution_count": null,
   "metadata": {},
   "outputs": [],
   "source": []
  }
 ],
 "metadata": {
  "kernelspec": {
   "display_name": "Python 3",
   "language": "python",
   "name": "python3"
  },
  "language_info": {
   "codemirror_mode": {
    "name": "ipython",
    "version": 3
   },
   "file_extension": ".py",
   "mimetype": "text/x-python",
   "name": "python",
   "nbconvert_exporter": "python",
   "pygments_lexer": "ipython3",
   "version": "3.12.1"
  }
 },
 "nbformat": 4,
 "nbformat_minor": 4
}
