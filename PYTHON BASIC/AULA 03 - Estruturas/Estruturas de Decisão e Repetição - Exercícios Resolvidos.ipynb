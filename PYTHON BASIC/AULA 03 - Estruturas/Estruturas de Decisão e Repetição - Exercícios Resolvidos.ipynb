{
 "cells": [
  {
   "cell_type": "markdown",
   "id": "announced-possible",
   "metadata": {},
   "source": [
    "# Estruturas de Decisão e Repetição - Exercícios"
   ]
  },
  {
   "cell_type": "markdown",
   "id": "complex-equation",
   "metadata": {},
   "source": [
    "### Ex: Classificação de IMC\n",
    "\n",
    "Um site sobre vida saudável nos contratou para criar uma automação que calcule o IMC e diga para o usuário a sua classificação. Para isso, nosso contratante nos deu a seguinte tabela:"
   ]
  },
  {
   "cell_type": "markdown",
   "id": "thick-washer",
   "metadata": {},
   "source": [
    "<table class=\"table table-bordered\">\n",
    "<tr>\n",
    "<th style=\"width:10%\">Classificação</th><th style=\"width:45%\">IMC</th>\n",
    "</tr>\n",
    "<tr>\n",
    "<td style=\"width:10%\">Muito abaixo do peso</td><td style=\"width:45%\">16 a 17 kg/m2</td>\n",
    "</tr>\n",
    "<tr>\n",
    "<td style=\"width:10%\">Abaixo do peso</td><td style=\"width:45%\">17 a 18,5 kg/m2</td>\n",
    "</tr>\n",
    "<tr>\n",
    "<td style=\"width:10%\">Peso normal</td><td style=\"width:45%\">18,5 a 25 kg/m2</td>\n",
    "</tr>\n",
    "<tr>\n",
    "<td style=\"width:10%\">Acima do peso</td><td style=\"width:45%\">25 a 30 kg/m2</td>\n",
    "</tr>\t\t\n",
    "<tr>\n",
    "<td style=\"width:10%\">Obesidade Grau I</td><td style=\"width:45%\">30 a 35 kg/m2</td>\n",
    "</tr>\t\t\n",
    "<tr>\n",
    "<td style=\"width:10%\">Obesidade Grau II</td><td style=\"width:45%\">35 a 40 kg/m2</td>\n",
    "</tr>\t\t\n",
    "<tr>\n",
    "<td style=\"width:10%\">Obesidade Grau III</td><td style=\"width:45%\">maior que 40 kg/m2</td>\n",
    "</tr>\n",
    "</table>"
   ]
  },
  {
   "cell_type": "markdown",
   "id": "dietary-setup",
   "metadata": {},
   "source": [
    "Sua missão é criar uma função que receba como input <b>peso</b> e <b>altura</b> e calcule o <b>IMC</b> (índice de massa corporal) com base na fórmula: \n",
    "<p>\n",
    "$$ IMC = \\frac{peso}{altura\\,^{2}}$$.\n",
    "<p>\n",
    "A função deve informar ao usuário o imc e sua classificação conforme a tabela abaixo:"
   ]
  },
  {
   "cell_type": "code",
   "execution_count": 6,
   "id": "detected-commission",
   "metadata": {},
   "outputs": [],
   "source": [
    "def classifica_imc(peso, altura):\n",
    "    \n",
    "    imc = peso/(altura**2)\n",
    "    \n",
    "    print(f'Seu imc é: {imc}')\n",
    "    \n",
    "    if imc <= 17:\n",
    "        print('Muito abaixo do peso')\n",
    "    \n",
    "    elif imc <= 18.5:\n",
    "        print('Abaixo do peso')\n",
    "   \n",
    "    elif imc <= 25:\n",
    "        print('Peso normal')\n",
    "    \n",
    "    elif imc <= 30:\n",
    "        print('Acima do peso')\n",
    "        \n",
    "    elif imc <= 35:\n",
    "        print('Obesidade Grau I\t')\n",
    "    \n",
    "    elif imc <= 40:\n",
    "        print('Obesidade Grau II')\n",
    "        \n",
    "    elif imc > 40:\n",
    "        print('Obesidade Grau III')"
   ]
  },
  {
   "cell_type": "code",
   "execution_count": 7,
   "id": "willing-findings",
   "metadata": {
    "scrolled": true
   },
   "outputs": [
    {
     "name": "stdout",
     "output_type": "stream",
     "text": [
      "Seu imc é: 27.755102040816325\n",
      "Acima do peso\n"
     ]
    }
   ],
   "source": [
    "classifica_imc(peso = 85, altura =1.75)"
   ]
  },
  {
   "cell_type": "markdown",
   "id": "unusual-worth",
   "metadata": {},
   "source": [
    "---------------------"
   ]
  },
  {
   "cell_type": "markdown",
   "id": "equipped-gasoline",
   "metadata": {},
   "source": [
    "### Ex : Decisões dentro de um loop:\n",
    "\n",
    "Vamos percorrer uma lista de nomes e vamos executar tarefas diferentes para cada nome.\n",
    "\n",
    "- Objetivo: Praticar o uso de <b>for</b>, o uso de operações de decisão (com <b>if, elif e else</b>) e o uso de listas.\n",
    "\n",
    "\n",
    "Temos a seguinte lista de nomes: ['Luis', 'Eduardo', 'Gabriela', 'Rafael', 'Matheus', 'Julia', 'Nathálisa']"
   ]
  },
  {
   "cell_type": "markdown",
   "id": "coupled-infection",
   "metadata": {},
   "source": [
    "a) Crie um código que imprima todos os nomes da lista."
   ]
  },
  {
   "cell_type": "code",
   "execution_count": null,
   "id": "expanded-daniel",
   "metadata": {},
   "outputs": [
    {
     "name": "stdout",
     "output_type": "stream",
     "text": [
      "Luis\n",
      "Eduardo\n",
      "Gabriela\n",
      "Rafael\n",
      "Matheus\n",
      "Julia\n",
      "Nathálisa\n"
     ]
    }
   ],
   "source": [
    "for item in ['Luis', 'Eduardo', 'Gabriela', 'Rafael', 'Matheus', 'Julia', 'Nathálisa']:\n",
    "    print(item)"
   ]
  },
  {
   "cell_type": "markdown",
   "id": "recognized-toddler",
   "metadata": {},
   "source": [
    "b) Agora, usando a mesma lista, crie um código que imprima:\n",
    "- 'tem i' se o nome tiver a letra 'i', ou\n",
    "- imprima o nome, se não tiver a letra 'i'. \n",
    "\n",
    "Desta forma, diante do nome 'Laura' o código deveria imprimir 'Laura'. E diante do nome 'Rui', o código deve imprimir: 'tem i'."
   ]
  },
  {
   "cell_type": "code",
   "execution_count": null,
   "id": "irish-manitoba",
   "metadata": {},
   "outputs": [
    {
     "name": "stdout",
     "output_type": "stream",
     "text": [
      "tem i\n",
      "Eduardo\n",
      "tem i\n",
      "Rafael\n",
      "Matheus\n",
      "tem i\n",
      "tem i\n"
     ]
    }
   ],
   "source": [
    "for item in ['Luis', 'Eduardo', 'Gabriela', 'Rafael', 'Matheus', 'Julia', 'Nathálisa']:\n",
    "    if 'i' in item:\n",
    "        print('tem i')\n",
    "    else:\n",
    "        print(item)"
   ]
  },
  {
   "cell_type": "markdown",
   "id": "separated-providence",
   "metadata": {},
   "source": [
    "c) Agora, usando a mesma lista, crie um código que imprima:\n",
    "\n",
    "- 'tem u e i' se o nome tiver a letra 'u' e tiver também a letra 'i'\n",
    "- 'tem u' se o nome tiver apenas a letra 'u'\n",
    "- 'tem i' se o nome tiver apenas a letra 'i'\n",
    "- imprima o nome, se não tiver a letra nem a letra 'i' e nem a letra 'u'.\n",
    "\n",
    "Desta forma, diante do nome 'Laura' o código deveria imprimir 'tem u'. Diante do nome 'Rui' o código deve imprimir: 'tem u e i'. E diante de 'Leonardo' o código deve imprimir 'Leonardo'."
   ]
  },
  {
   "cell_type": "code",
   "execution_count": null,
   "id": "assured-passenger",
   "metadata": {},
   "outputs": [
    {
     "name": "stdout",
     "output_type": "stream",
     "text": [
      "tem u e i\n",
      "tem u\n",
      "tem i\n",
      "Rafael\n",
      "tem u\n",
      "tem u e i\n",
      "tem i\n"
     ]
    }
   ],
   "source": [
    "for item in ['Luis', 'Eduardo', 'Gabriela', 'Rafael', 'Matheus', 'Julia', 'Nathálisa']:\n",
    "    if ('i' in item) and ('u' in item):\n",
    "        print('tem u e i')\n",
    "    \n",
    "    elif  'i' in item:\n",
    "        print('tem i')\n",
    "    \n",
    "    elif  'u' in item:\n",
    "        print('tem u')\n",
    "    \n",
    "    else:\n",
    "        print(item)"
   ]
  },
  {
   "cell_type": "markdown",
   "id": "specified-disability",
   "metadata": {},
   "source": [
    "### Ex: Comparações Compostas:\n",
    "\n",
    "a) Usando código python verifique se a sequencia de letras 'mkslasf' está no texto abaixo:"
   ]
  },
  {
   "cell_type": "code",
   "execution_count": null,
   "id": "registered-viking",
   "metadata": {},
   "outputs": [],
   "source": [
    "texto = 'jilsjla aidmofla sdj dsui afnoWUY aksl mladsfhalenf lv mopds ompaosmf fdlafjkjxmkslasfihbefkj odcaoksd yhsia dkuahef ,czduknfaefknk, sdanilf 7823dnaailfa aiodlf'"
   ]
  },
  {
   "cell_type": "code",
   "execution_count": null,
   "id": "sudden-florist",
   "metadata": {},
   "outputs": [
    {
     "data": {
      "text/plain": [
       "True"
      ]
     },
     "execution_count": 35,
     "metadata": {},
     "output_type": "execute_result"
    }
   ],
   "source": [
    "'mkslasf' in texto"
   ]
  },
  {
   "cell_type": "markdown",
   "id": "polished-privilege",
   "metadata": {},
   "source": [
    "b) Agora verifique se tanto a sequencia 'dsfha' quanto a 'jkjxmksla' estão no texto:"
   ]
  },
  {
   "cell_type": "code",
   "execution_count": null,
   "id": "intense-investigation",
   "metadata": {},
   "outputs": [
    {
     "data": {
      "text/plain": [
       "True"
      ]
     },
     "execution_count": 37,
     "metadata": {},
     "output_type": "execute_result"
    }
   ],
   "source": [
    "('dsfha' in texto) and ('jkjxmksla' in texto)"
   ]
  },
  {
   "cell_type": "markdown",
   "id": "continent-teaching",
   "metadata": {},
   "source": [
    "d) Agora antes de executar a sequência de células abaixo, preveja qual será o resultado de cada uma."
   ]
  },
  {
   "cell_type": "code",
   "execution_count": 8,
   "id": "female-realtor",
   "metadata": {},
   "outputs": [],
   "source": [
    "novo_texto = 'Fintechs é o setor mais numeroso de startups'"
   ]
  },
  {
   "cell_type": "code",
   "execution_count": 9,
   "id": "pressing-month",
   "metadata": {},
   "outputs": [
    {
     "data": {
      "text/plain": [
       "True"
      ]
     },
     "execution_count": 9,
     "metadata": {},
     "output_type": "execute_result"
    }
   ],
   "source": [
    "('numeroso' in novo_texto) and ('setor' in novo_texto)"
   ]
  },
  {
   "cell_type": "code",
   "execution_count": 10,
   "id": "minimal-attempt",
   "metadata": {},
   "outputs": [
    {
     "data": {
      "text/plain": [
       "True"
      ]
     },
     "execution_count": 10,
     "metadata": {},
     "output_type": "execute_result"
    }
   ],
   "source": [
    "('Fintech' in novo_texto) and ('setor' in novo_texto) and ('startup' in novo_texto)"
   ]
  },
  {
   "cell_type": "code",
   "execution_count": 11,
   "id": "artistic-artwork",
   "metadata": {},
   "outputs": [
    {
     "data": {
      "text/plain": [
       "False"
      ]
     },
     "execution_count": 11,
     "metadata": {},
     "output_type": "execute_result"
    }
   ],
   "source": [
    "('Fintech' in novo_texto) and ('Edtech' in novo_texto)"
   ]
  },
  {
   "cell_type": "code",
   "execution_count": 12,
   "id": "attractive-institute",
   "metadata": {},
   "outputs": [
    {
     "data": {
      "text/plain": [
       "True"
      ]
     },
     "execution_count": 12,
     "metadata": {},
     "output_type": "execute_result"
    }
   ],
   "source": [
    "('Fintech' in novo_texto) or ('Edtech' in novo_texto)"
   ]
  },
  {
   "cell_type": "markdown",
   "id": "excess-apache",
   "metadata": {},
   "source": [
    "-------------------------"
   ]
  },
  {
   "cell_type": "markdown",
   "id": "prompt-resort",
   "metadata": {},
   "source": [
    "### Ex: Populações\n",
    "\n",
    "Use estruturas de repetição para resolver a seguinte questão:\n",
    "\n",
    "Supondo que a população de um país A seja da ordem de 90.000 habitantes com uma taxa anual de crescimento de 3% e que a população de B seja 300.000 habitantes com uma taxa de crescimento de 1.5%. Faça um programa que calcule e escreva o número de anos necessários para que a população do país A ultrapasse ou iguale a população do país B, mantidas as taxas de crescimento.\n",
    "\n",
    "Lembrando que a cada ano percorrido a população de cada país aumenta conforme a seguinte fórmula:\n",
    "\n",
    "$$populacao\\_apos\\_um\\_ano = populacao\\_inicial . (1 + taxa\\_de\\_crescimento)$$"
   ]
  },
  {
   "cell_type": "code",
   "execution_count": null,
   "id": "formal-building",
   "metadata": {},
   "outputs": [
    {
     "name": "stdout",
     "output_type": "stream",
     "text": [
      "Levará 83 para que a população de B seja maior que a população de A\n"
     ]
    }
   ],
   "source": [
    "# Dados iniciais do pais A\n",
    "populacao_a = 90000\n",
    "taxa_a = 0.03\n",
    "\n",
    "# Dados iniciais do pais B\n",
    "populacao_b = 300000\n",
    "taxa_b = 0.015\n",
    "\n",
    "#Início de uma variável para armazenar anos percorridos \n",
    "anos = 0\n",
    "\n",
    "# Enquanto a população do país A for menor que a do país B:\n",
    "while populacao_a < populacao_b:\n",
    "    \n",
    "    populacao_a = populacao_a * (1 + taxa_a)\n",
    "    populacao_b = populacao_b * (1 + taxa_b)\n",
    "    anos += 1\n",
    "\n",
    "print(f'Levará {anos} para que a população de B seja maior que a população de A')"
   ]
  },
  {
   "cell_type": "markdown",
   "id": "satisfied-amber",
   "metadata": {},
   "source": [
    "-----------------------"
   ]
  },
  {
   "cell_type": "markdown",
   "id": "boxed-mouth",
   "metadata": {},
   "source": [
    "### Autenticador. (Desafio)\n",
    "\n",
    "Faça um programa que peça uma nota, entre zero e dez. Mostre uma mensagem caso o valor seja inválido e continue pedindo até que o usuário informe um valor válido.\n",
    "\n",
    "Dica: para este exercício vamos precisar usar a função input() e a função int(), que não vimos ainda visto. \n",
    "- A função input() nos permite interagir com o usuário pedindo algum input. Duas referências: <a href=https://www.w3schools.com/python/ref_func_input.asp> input w3schools</a>, <a href=https://www.w3schools.com/python/ref_func_input.asp> input python progressivo</a> \n",
    "- A função int() nos permite transformar uma variável de outro tipo em tipo inteiro (desde que compatíveis)."
   ]
  },
  {
   "cell_type": "code",
   "execution_count": 15,
   "id": "alternate-necessity",
   "metadata": {},
   "outputs": [],
   "source": [
    "# demonstração do uso de input:\n",
    "# rode esta célula, escreva algo no campo que se abrirá e aperte Enter. \n",
    "#Em seguida, rode a célula abaixo desta para verificar o resultado.\n",
    "\n",
    "mensagem = input('digite aqui uma mensagem: ')"
   ]
  },
  {
   "cell_type": "code",
   "execution_count": 16,
   "id": "standard-ecuador",
   "metadata": {},
   "outputs": [
    {
     "data": {
      "text/plain": [
       "'MRKTO'"
      ]
     },
     "execution_count": 16,
     "metadata": {},
     "output_type": "execute_result"
    }
   ],
   "source": [
    "mensagem"
   ]
  },
  {
   "cell_type": "code",
   "execution_count": null,
   "id": "rotary-occurrence",
   "metadata": {},
   "outputs": [
    {
     "data": {
      "text/plain": [
       "3"
      ]
     },
     "execution_count": 19,
     "metadata": {},
     "output_type": "execute_result"
    }
   ],
   "source": [
    "# demonstração do uso de int:\n",
    "\n",
    "int('3')"
   ]
  },
  {
   "cell_type": "code",
   "execution_count": null,
   "id": "therapeutic-kidney",
   "metadata": {},
   "outputs": [
    {
     "name": "stdout",
     "output_type": "stream",
     "text": [
      "Digite um número de 0 a 10: -1\n",
      "Digite um número de 0 a 10: -2\n",
      "Digite um número de 0 a 10: -3\n",
      "Digite um número de 0 a 10: 0\n"
     ]
    }
   ],
   "source": [
    "# Resolução de exercício:\n",
    "\n",
    "numero = int(input('Digite um número de 0 a 10: '))\n",
    "\n",
    "while (numero < 0) or (numero > 10):\n",
    "    numero = int(input('Digite um número de 0 a 10: '))"
   ]
  }
 ],
 "metadata": {
  "kernelspec": {
   "display_name": "Python 3",
   "language": "python",
   "name": "python3"
  },
  "language_info": {
   "codemirror_mode": {
    "name": "ipython",
    "version": 3
   },
   "file_extension": ".py",
   "mimetype": "text/x-python",
   "name": "python",
   "nbconvert_exporter": "python",
   "pygments_lexer": "ipython3",
   "version": "3.12.1"
  }
 },
 "nbformat": 4,
 "nbformat_minor": 5
}
