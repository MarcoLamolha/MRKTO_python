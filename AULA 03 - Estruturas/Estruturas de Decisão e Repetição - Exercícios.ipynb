{
 "cells": [
  {
   "cell_type": "markdown",
   "id": "announced-possible",
   "metadata": {},
   "source": [
    "# Estruturas de Decisão e Repetição - Exercícios\n",
    "\n",
    "Marco Antonio Lamolha"
   ]
  },
  {
   "cell_type": "markdown",
   "id": "complex-equation",
   "metadata": {},
   "source": [
    "### Ex: Classificação de IMC\n",
    "\n",
    "Um site sobre vida saudável nos contratou para criar uma automação que calcule o IMC e diga para o usuário a sua classificação. Para isso, nosso contratante nos deu a seguinte tabela:"
   ]
  },
  {
   "cell_type": "markdown",
   "id": "thick-washer",
   "metadata": {},
   "source": [
    "<table class=\"table table-bordered\">\n",
    "<tr>\n",
    "<th style=\"width:10%\">Classificação</th><th style=\"width:45%\">IMC</th>\n",
    "</tr>\n",
    "<tr>\n",
    "<td style=\"width:10%\">Muito abaixo do peso</td><td style=\"width:45%\">16 a 17 kg/m2</td>\n",
    "</tr>\n",
    "<tr>\n",
    "<td style=\"width:10%\">Abaixo do peso</td><td style=\"width:45%\">17 a 18,5 kg/m2</td>\n",
    "</tr>\n",
    "<tr>\n",
    "<td style=\"width:10%\">Peso normal</td><td style=\"width:45%\">18,5 a 25 kg/m2</td>\n",
    "</tr>\n",
    "<tr>\n",
    "<td style=\"width:10%\">Acima do peso</td><td style=\"width:45%\">25 a 30 kg/m2</td>\n",
    "</tr>\t\t\n",
    "<tr>\n",
    "<td style=\"width:10%\">Obesidade Grau I</td><td style=\"width:45%\">30 a 35 kg/m2</td>\n",
    "</tr>\t\t\n",
    "<tr>\n",
    "<td style=\"width:10%\">Obesidade Grau II</td><td style=\"width:45%\">35 a 40 kg/m2</td>\n",
    "</tr>\t\t\n",
    "<tr>\n",
    "<td style=\"width:10%\">Obesidade Grau III</td><td style=\"width:45%\">maior que 40 kg/m2</td>\n",
    "</tr>\n",
    "</table>"
   ]
  },
  {
   "cell_type": "markdown",
   "id": "frequent-electron",
   "metadata": {},
   "source": [
    "Sua missão é criar uma função que receba como input <b>peso</b> e <b>altura</b> e calcule o <b>IMC</b> (índice de massa corporal) com base na fórmula: \n",
    "<p>\n",
    "$$ IMC = \\frac{peso}{altura\\,^{2}}$$.\n",
    "<p>\n",
    "A função deve informar ao usuário o imc e sua classificação conforme a tabela abaixo:"
   ]
  },
  {
   "cell_type": "code",
   "execution_count": 12,
   "id": "detected-commission",
   "metadata": {},
   "outputs": [],
   "source": [
    "def imc(peso,altura):\n",
    "    imc = peso/(altura**2)\n",
    "    if imc <= 17:\n",
    "        print('Muito abaixo do peso')\n",
    "    elif imc <= 18.5:\n",
    "        print('Abaixo do peso')\n",
    "    elif imc <= 25:\n",
    "        print('Peso normal')\n",
    "    elif imc <= 30:\n",
    "        print('Acima do peso')\n",
    "    elif imc <= 35:\n",
    "        print('Obesidade grau 1')\n",
    "    elif imc <= 40:\n",
    "        print('Obesidade grau 2')\n",
    "    else:\n",
    "        print('Obesidade grau 3')\n",
    "    \n",
    "\n",
    "        \n",
    "        \n",
    "        \n",
    "        "
   ]
  },
  {
   "cell_type": "code",
   "execution_count": 15,
   "id": "willing-findings",
   "metadata": {
    "scrolled": true
   },
   "outputs": [
    {
     "name": "stdout",
     "output_type": "stream",
     "text": [
      "Acima do peso\n"
     ]
    }
   ],
   "source": [
    "imc(90,1.75)"
   ]
  },
  {
   "cell_type": "markdown",
   "id": "proper-personality",
   "metadata": {},
   "source": [
    "---------------------"
   ]
  },
  {
   "cell_type": "markdown",
   "id": "right-teacher",
   "metadata": {},
   "source": [
    "### Ex : Decisões dentro de um loop:\n",
    "\n",
    "Vamos percorrer uma lista de nomes e vamos executar tarefas diferentes para cada nome.\n",
    "\n",
    "- Objetivo: Praticar o uso de <b>for</b>, o uso de operações de decisão (com <b>if, elif e else</b>) e o uso de listas.\n",
    "\n",
    "\n",
    "Temos a seguinte lista de nomes: ['Luis', 'Eduardo', 'Gabriela', 'Rafael', 'Matheus', 'Julia', 'Nathálisa']"
   ]
  },
  {
   "cell_type": "markdown",
   "id": "fuzzy-digit",
   "metadata": {},
   "source": [
    "a) Crie um código que imprima todos os nomes da lista."
   ]
  },
  {
   "cell_type": "code",
   "execution_count": 3,
   "id": "floating-artwork",
   "metadata": {},
   "outputs": [
    {
     "name": "stdout",
     "output_type": "stream",
     "text": [
      "['Luis', 'Eduardo', 'Gabriela', 'Rafael', 'Matheus', 'Julia', 'Nathálisa']\n"
     ]
    }
   ],
   "source": [
    "nomes = ['Luis', 'Eduardo', 'Gabriela', 'Rafael', 'Matheus', 'Julia', 'Nathálisa']\n",
    "print(nomes)"
   ]
  },
  {
   "cell_type": "markdown",
   "id": "activated-holiday",
   "metadata": {},
   "source": [
    "b) Agora, usando a mesma lista, crie um código que imprima:\n",
    "- 'tem i' se o nome tiver a letra 'i', ou\n",
    "- imprima o nome, se não tiver a letra 'i'. \n",
    "\n",
    "Desta forma, diante do nome 'Laura' o código deveria imprimir 'Laura'. E diante do nome 'Rui', o código deve imprimir: 'tem i'."
   ]
  },
  {
   "cell_type": "code",
   "execution_count": 13,
   "id": "difficult-arrest",
   "metadata": {},
   "outputs": [
    {
     "name": "stdout",
     "output_type": "stream",
     "text": [
      "['Luis', 'Eduardo', 'Gabriela', 'Rafael', 'Matheus', 'Julia', 'Nathálisa']\n",
      "['TEM i', 'Eduardo', 'TEM i', 'Rafael', 'Matheus', 'TEM i', 'TEM i']\n"
     ]
    }
   ],
   "source": [
    "tem_i = []\n",
    "for item in nomes:\n",
    "    if 'i' in item:\n",
    "        tem_i.append('TEM i')\n",
    "    else:\n",
    "        tem_i.append(item)\n",
    "        \n",
    "print(nomes)\n",
    "print(tem_i)"
   ]
  },
  {
   "cell_type": "markdown",
   "id": "royal-frederick",
   "metadata": {},
   "source": [
    "c) Agora, usando a mesma lista, crie um código que imprima:\n",
    "\n",
    "- 'tem u e i' se o nome tiver a letra 'u' e tiver também a letra 'i'\n",
    "- 'tem u' se o nome tiver apenas a letra 'u'\n",
    "- 'tem i' se o nome tiver apenas a letra 'i'\n",
    "- imprima o nome, se não tiver a letra nem a letra 'i' e nem a letra 'u'.\n",
    "\n",
    "Desta forma, diante do nome 'Laura' o código deveria imprimir 'tem u'. Diante do nome 'Rui' o código deve imprimir: 'tem u e i'. E diante de 'Leonardo' o código deve imprimir 'Leonardo'."
   ]
  },
  {
   "cell_type": "code",
   "execution_count": 16,
   "id": "permanent-microphone",
   "metadata": {},
   "outputs": [
    {
     "name": "stdout",
     "output_type": "stream",
     "text": [
      "['Luis', 'Eduardo', 'Gabriela', 'Rafael', 'Matheus', 'Julia', 'Nathálisa']\n",
      "['TEM i', 'Eduardo', 'TEM i', 'Rafael', 'Matheus', 'TEM i', 'TEM i']\n",
      "['TEM u E i', 'TEM u', 'TEM i', 'Rafael', 'TEM u', 'TEM u E i', 'TEM i']\n"
     ]
    }
   ],
   "source": [
    "tem_i_detalhada = list()\n",
    "\n",
    "for item in nomes:\n",
    "    if ('u' in item) and ('i' in item):\n",
    "        tem_i_detalhada.append(\"TEM u E i\")\n",
    "    elif ('u' in item) and ('i' not in item):\n",
    "        tem_i_detalhada.append(\"TEM u\")\n",
    "    elif ('u' not in item) and ('i' in item):\n",
    "        tem_i_detalhada.append(\"TEM i\")\n",
    "    elif ('u' not in item) and ('i' not in item):\n",
    "        tem_i_detalhada.append(item)\n",
    "                \n",
    "print(nomes)\n",
    "print(tem_i)\n",
    "print(tem_i_detalhada)"
   ]
  },
  {
   "cell_type": "markdown",
   "id": "duplicate-bowling",
   "metadata": {},
   "source": [
    "### Ex: Comparações Compostas:\n",
    "\n",
    "a) Usando código python verifique se a sequencia de letras 'mkslasf' está no texto abaixo:"
   ]
  },
  {
   "cell_type": "code",
   "execution_count": 18,
   "id": "otherwise-publication",
   "metadata": {},
   "outputs": [],
   "source": [
    "texto = 'jilsjla aidmofla sdj dsui afnoWUY aksl mladsfhalenf lv mopds ompaosmf fdlafjkjxmkslasfihbefkj odcaoksd yhsia dkuahef ,czduknfaefknk, sdanilf 7823dnaailfa aiodlf'"
   ]
  },
  {
   "cell_type": "code",
   "execution_count": 19,
   "id": "virtual-rochester",
   "metadata": {},
   "outputs": [
    {
     "data": {
      "text/plain": [
       "True"
      ]
     },
     "execution_count": 19,
     "metadata": {},
     "output_type": "execute_result"
    }
   ],
   "source": [
    "'mkslasf' in texto"
   ]
  },
  {
   "cell_type": "markdown",
   "id": "constitutional-society",
   "metadata": {},
   "source": [
    "b) Agora verifique se tanto a sequencia 'dsfha' quanto a 'jkjxmksla' estão no texto:"
   ]
  },
  {
   "cell_type": "code",
   "execution_count": 22,
   "id": "injured-willow",
   "metadata": {},
   "outputs": [
    {
     "data": {
      "text/plain": [
       "True"
      ]
     },
     "execution_count": 22,
     "metadata": {},
     "output_type": "execute_result"
    }
   ],
   "source": [
    "('dsfha') and ('jkjxmksla') in texto"
   ]
  },
  {
   "cell_type": "markdown",
   "id": "fewer-penguin",
   "metadata": {},
   "source": [
    "d) Agora antes de executar a sequência de células abaixo, preveja qual será o resultado de cada uma."
   ]
  },
  {
   "cell_type": "code",
   "execution_count": 23,
   "id": "amazing-injury",
   "metadata": {},
   "outputs": [],
   "source": [
    "novo_texto = 'Fintechs é o setor mais numeroso de startups'"
   ]
  },
  {
   "cell_type": "code",
   "execution_count": 24,
   "id": "severe-demand",
   "metadata": {},
   "outputs": [
    {
     "data": {
      "text/plain": [
       "True"
      ]
     },
     "execution_count": 24,
     "metadata": {},
     "output_type": "execute_result"
    }
   ],
   "source": [
    "('numeroso' in novo_texto) and ('setor' in novo_texto)"
   ]
  },
  {
   "cell_type": "code",
   "execution_count": 25,
   "id": "seventh-democracy",
   "metadata": {},
   "outputs": [
    {
     "data": {
      "text/plain": [
       "True"
      ]
     },
     "execution_count": 25,
     "metadata": {},
     "output_type": "execute_result"
    }
   ],
   "source": [
    "('Fintech' in novo_texto) and ('setor' in novo_texto) and ('startup' in novo_texto)"
   ]
  },
  {
   "cell_type": "code",
   "execution_count": 26,
   "id": "governing-angle",
   "metadata": {},
   "outputs": [
    {
     "data": {
      "text/plain": [
       "False"
      ]
     },
     "execution_count": 26,
     "metadata": {},
     "output_type": "execute_result"
    }
   ],
   "source": [
    "('Fintech' in novo_texto) and ('Edtech' in novo_texto)"
   ]
  },
  {
   "cell_type": "code",
   "execution_count": 27,
   "id": "attempted-homework",
   "metadata": {},
   "outputs": [
    {
     "data": {
      "text/plain": [
       "True"
      ]
     },
     "execution_count": 27,
     "metadata": {},
     "output_type": "execute_result"
    }
   ],
   "source": [
    "('Fintech' in novo_texto) or ('Edtech' in novo_texto)"
   ]
  },
  {
   "cell_type": "markdown",
   "id": "subjective-shock",
   "metadata": {},
   "source": [
    "-------------------------"
   ]
  },
  {
   "cell_type": "markdown",
   "id": "prompt-resort",
   "metadata": {},
   "source": [
    "### Ex: Populações\n",
    "\n",
    "Use estruturas de repetição para resolver a seguinte questão:\n",
    "\n",
    "Supondo que a população de um país A seja da ordem de 90.000 habitantes com uma taxa anual de crescimento de 3% e que a população de B seja 300.000 habitantes com uma taxa de crescimento de 1.5%. Faça um programa que calcule e escreva o número de anos necessários para que a população do país A ultrapasse ou iguale a população do país B, mantidas as taxas de crescimento.\n",
    "\n",
    "Lembrando que a cada ano percorrido a população de cada país aumenta conforme a seguinte fórmula:\n",
    "\n",
    "$$populacao\\_apos\\_um\\_ano = populacao\\_inicial . (1 + taxa\\_de\\_crescimento)$$"
   ]
  },
  {
   "cell_type": "code",
   "execution_count": 16,
   "id": "supposed-hamilton",
   "metadata": {},
   "outputs": [
    {
     "name": "stdout",
     "output_type": "stream",
     "text": [
      "83\n"
     ]
    }
   ],
   "source": [
    "ano = 0\n",
    "a = 90000\n",
    "b = 300000\n",
    "a_growth = 1.03\n",
    "b_growth = 1.015\n",
    "\n",
    "while a < b:\n",
    "    a = a * a_growth\n",
    "    b = b * b_growth\n",
    "    ano = ano + 1\n",
    "    \n",
    "print(ano)"
   ]
  },
  {
   "cell_type": "code",
   "execution_count": null,
   "id": "underlying-major",
   "metadata": {},
   "outputs": [],
   "source": []
  },
  {
   "cell_type": "code",
   "execution_count": null,
   "id": "altered-charger",
   "metadata": {},
   "outputs": [],
   "source": []
  },
  {
   "cell_type": "code",
   "execution_count": null,
   "id": "separate-father",
   "metadata": {},
   "outputs": [],
   "source": []
  },
  {
   "cell_type": "code",
   "execution_count": null,
   "id": "loving-provider",
   "metadata": {},
   "outputs": [],
   "source": []
  },
  {
   "cell_type": "code",
   "execution_count": null,
   "id": "necessary-telescope",
   "metadata": {},
   "outputs": [],
   "source": []
  },
  {
   "cell_type": "code",
   "execution_count": null,
   "id": "dominican-revision",
   "metadata": {},
   "outputs": [],
   "source": []
  },
  {
   "cell_type": "code",
   "execution_count": null,
   "id": "molecular-treasury",
   "metadata": {},
   "outputs": [],
   "source": []
  },
  {
   "cell_type": "code",
   "execution_count": null,
   "id": "acoustic-bhutan",
   "metadata": {},
   "outputs": [],
   "source": [
    "a = 90000\n",
    "b = 300000\n",
    "anos = 0\n",
    "\n",
    "while a <= b:\n",
    "    a = a * 1.03\n",
    "    b = b * 1.015\n",
    "    anos = anos + 1\n",
    "\n",
    "print(anos)"
   ]
  },
  {
   "cell_type": "markdown",
   "id": "boxed-mouth",
   "metadata": {},
   "source": [
    "### Autenticador. (Desafio)\n",
    "\n",
    "Faça um programa que peça uma nota, entre zero e dez. Mostre uma mensagem caso o valor seja inválido e continue pedindo até que o usuário informe um valor válido.\n",
    "\n",
    "Dica: para este exercício vamos precisar usar a função input() e a função int(), que não vimos ainda visto. \n",
    "- A função input() nos permite interagir com o usuário pedindo algum input. Duas referências: <a href=https://www.w3schools.com/python/ref_func_input.asp> input w3schools</a>, <a href=https://www.w3schools.com/python/ref_func_input.asp> input python progressivo</a> \n",
    "- A função int() nos permite transformar uma variável de outro tipo em tipo inteiro (desde que compatíveis)."
   ]
  },
  {
   "cell_type": "code",
   "execution_count": 25,
   "id": "therapeutic-kidney",
   "metadata": {},
   "outputs": [
    {
     "name": "stdout",
     "output_type": "stream",
     "text": [
      "Digite uma nota entre 0 e 10: 89\n",
      "Digite uma nota entre 0 e 10: 89\n",
      "Digite uma nota entre 0 e 10: 90\n",
      "Digite uma nota entre 0 e 10: -23\n",
      "Digite uma nota entre 0 e 10: 5\n"
     ]
    }
   ],
   "source": [
    "valor = int(input('Digite uma nota entre 0 e 10: '))\n",
    "\n",
    "while (valor > 10) or (valor < 0):\n",
    "    valor = int(input('Digite uma nota entre 0 e 10: '))\n",
    "    "
   ]
  },
  {
   "cell_type": "code",
   "execution_count": null,
   "id": "fourth-program",
   "metadata": {},
   "outputs": [],
   "source": []
  }
 ],
 "metadata": {
  "kernelspec": {
   "display_name": "Python 3",
   "language": "python",
   "name": "python3"
  },
  "language_info": {
   "codemirror_mode": {
    "name": "ipython",
    "version": 3
   },
   "file_extension": ".py",
   "mimetype": "text/x-python",
   "name": "python",
   "nbconvert_exporter": "python",
   "pygments_lexer": "ipython3",
   "version": "3.9.2"
  }
 },
 "nbformat": 4,
 "nbformat_minor": 5
}
